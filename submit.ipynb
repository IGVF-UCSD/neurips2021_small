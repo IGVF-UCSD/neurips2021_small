{
 "cells": [
  {
   "cell_type": "code",
   "execution_count": 4,
   "metadata": {},
   "outputs": [],
   "source": [
    "# Imports\n",
    "import os\n",
    "import synapseclient"
   ]
  },
  {
   "cell_type": "code",
   "execution_count": 3,
   "metadata": {},
   "outputs": [
    {
     "name": "stderr",
     "output_type": "stream",
     "text": [
      "\n",
      "UPGRADE AVAILABLE\n",
      "\n",
      "A more recent version of the Synapse Client (4.1.1) is available. Your version (2.6.0) can be upgraded by typing:\n",
      "    pip install --upgrade synapseclient\n",
      "\n",
      "Python Synapse Client version 4.1.1 release notes\n",
      "\n",
      "https://python-docs.synapse.org/news/\n",
      "\n"
     ]
    },
    {
     "name": "stdout",
     "output_type": "stream",
     "text": [
      "Welcome, Adam Klie!\n",
      "\n"
     ]
    }
   ],
   "source": [
    "# Log-in\n",
    "syn = synapseclient.Synapse()\n",
    "syn.login('adamklie', 'iArJ8qXdvXO%g81@')"
   ]
  },
  {
   "cell_type": "code",
   "execution_count": 5,
   "metadata": {},
   "outputs": [],
   "source": [
    "os.chdir(\"/cellar/users/aklie/data/datasets/neurips2021\")"
   ]
  },
  {
   "cell_type": "code",
   "execution_count": 6,
   "metadata": {},
   "outputs": [
    {
     "name": "stdout",
     "output_type": "stream",
     "text": [
      "\n",
      "##################################################\n",
      " Uploading file to Synapse storage \n",
      "##################################################\n",
      "\n"
     ]
    },
    {
     "data": {
      "text/plain": [
       "File(files=['mdata.h5mu'], name='mdata.h5mu', path='mdata.h5mu', cacheDir='', createdBy='3413780', synapseStore=True, versionNumber=1, modifiedOn='2024-03-08T17:42:22.446Z', isLatestVersion=True, id='syn53994266', etag='29a70e4d-f30c-4c3c-8928-9f6c80dae72b', versionLabel='1', dataFileHandleId='134259054', parentId='syn53994263', createdOn='2024-03-08T17:42:22.300Z', _file_handle={'id': '134259054', 'etag': '2bb3239d-b494-453e-8e71-d7f55c674713', 'createdBy': '3413780', 'createdOn': '2024-03-08T17:42:22.000Z', 'modifiedOn': '2024-03-08T17:42:22.000Z', 'concreteType': 'org.sagebionetworks.repo.model.file.S3FileHandle', 'contentType': 'application/octet-stream', 'contentMd5': 'eaa13b7293cd13893789c0fccd0e5478', 'fileName': 'mdata.h5mu', 'storageLocationId': 1, 'contentSize': 63975174, 'status': 'AVAILABLE', 'bucketName': 'proddata.sagebase.org', 'key': '3413780/30684b72-cc0c-43b7-bf9a-e2546d5c3818/mdata.h5mu', 'isPreview': False, 'externalURL': None}, modifiedBy='3413780', concreteType='org.sagebionetworks.repo.model.FileEntity')"
      ]
     },
     "execution_count": 6,
     "metadata": {},
     "output_type": "execute_result"
    }
   ],
   "source": [
    "# Add 'mdata.h5mu' to folder on synapse\n",
    "folder_id = \"syn53994263\"\n",
    "file_path = \"mdata.h5mu\"\n",
    "syn.store(synapseclient.File(file_path, parent=folder_id))"
   ]
  },
  {
   "cell_type": "code",
   "execution_count": 7,
   "metadata": {},
   "outputs": [
    {
     "name": "stdout",
     "output_type": "stream",
     "text": [
      "\n",
      "##################################################\n",
      " Uploading file to Synapse storage \n",
      "##################################################\n",
      "\n"
     ]
    },
    {
     "data": {
      "text/plain": [
       "File(cacheDir='', modifiedOn='2024-03-08T17:51:14.420Z', synapseStore=True, etag='df8b36b5-9880-45c1-b93c-db23aaabeb39', id='syn53994284', dataFileHandleId='134259076', name='small.h5mu', versionNumber=1, _file_handle={'id': '134259076', 'etag': 'd4683daf-0725-4bc6-ad4e-319c82539d78', 'createdBy': '3413780', 'createdOn': '2024-03-08T17:51:14.000Z', 'modifiedOn': '2024-03-08T17:51:14.000Z', 'concreteType': 'org.sagebionetworks.repo.model.file.S3FileHandle', 'contentType': 'application/octet-stream', 'contentMd5': 'bc004cd82aac9c6fc4e82bb3f379540a', 'fileName': 'small.h5mu', 'storageLocationId': 1, 'contentSize': 2742788, 'status': 'AVAILABLE', 'bucketName': 'proddata.sagebase.org', 'key': '3413780/27e22f27-c8c9-4b49-b30f-2460be16d132/small.h5mu', 'isPreview': False, 'externalURL': None}, path='small.h5mu', isLatestVersion=True, versionLabel='1', parentId='syn53994263', createdOn='2024-03-08T17:51:14.269Z', files=['small.h5mu'], createdBy='3413780', modifiedBy='3413780', concreteType='org.sagebionetworks.repo.model.FileEntity')"
      ]
     },
     "execution_count": 7,
     "metadata": {},
     "output_type": "execute_result"
    }
   ],
   "source": [
    "# Add 'small.h5mu' to folder on synapse\n",
    "folder_id = \"syn53994263\"\n",
    "file_path = \"small.h5mu\"\n",
    "syn.store(synapseclient.File(file_path, parent=folder_id))"
   ]
  },
  {
   "attachments": {},
   "cell_type": "markdown",
   "metadata": {},
   "source": [
    "# DONE!"
   ]
  },
  {
   "attachments": {},
   "cell_type": "markdown",
   "metadata": {},
   "source": [
    "---"
   ]
  }
 ],
 "metadata": {
  "kernelspec": {
   "display_name": "Python 3.7 get_data",
   "language": "python",
   "name": "get_data"
  },
  "language_info": {
   "codemirror_mode": {
    "name": "ipython",
    "version": 3
   },
   "file_extension": ".py",
   "mimetype": "text/x-python",
   "name": "python",
   "nbconvert_exporter": "python",
   "pygments_lexer": "ipython3",
   "version": "3.7.12"
  },
  "orig_nbformat": 4
 },
 "nbformat": 4,
 "nbformat_minor": 2
}
